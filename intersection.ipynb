{
 "cells": [
  {
   "cell_type": "code",
   "execution_count": 9,
   "source": [
    "\"\"\"\r\n",
    "This is a script used to identify the intersection between objects\r\n",
    "The result should yield the  intersecting line that separates the two items/objects.\r\n",
    "\"\"\"\r\n",
    "# Import arcpy module\r\n",
    "import arcpy\r\n",
    "\r\n",
    "\r\n",
    "# Local variables:\r\n",
    "Bus_Stops =\"C:\\\\Data_science_&_GIS\\\\Python_ARCGIS\\\\ArcPy_and_ArcGIS_Second_Edition_Code\\\\Projects\\\\SanFrancisco.gdb\\\\SanFrancisco\\\\Bus_Stops\"\r\n",
    "CensusBlocks2010 = \"C:\\\\Data_science_&_GIS\\\\Python_ARCGIS\\\\ArcPy_and_ArcGIS_Second_Edition_Code\\\\Projects\\\\SanFrancisco.gdb\\\\SanFrancisco\\\\\\CensusBlocks2010\"\r\n",
    "\r\n",
    "Inbound71 = \"C:\\\\Data_science_&_GIS\\\\Python_ARCGIS\\\\ArcPy_and_ArcGIS_Second_Edition_Code\\\\Projects\\\\SanFrancisco.gdb\\\\Chapter2Results\\\\Inbound71\"\r\n",
    "Inbound71_400ft_buffer = \"C:\\\\Data_science_&_GIS\\\\Python_ARCGIS\\\\ArcPy_and_ArcGIS_Second_Edition_Code\\\\Projects\\\\SanFrancisco.gdb\\\\Chapter2Results\\\\Inbound71_400ft_buffer\"\r\n",
    "Intersect71Census = \"C:\\\\Data_science_&_GIS\\\\Python_ARCGIS\\\\ArcPy_and_ArcGIS_Second_Edition_Code\\\\Projects\\\\SanFrancisco.gdb\\\\Chapter2Results\\\\Intersect71Census\"\r\n",
    "\r\n",
    "\r\n",
    "\r\n",
    "\r\n",
    "\r\n",
    "\r\n",
    "\r\n",
    " \r\n"
   ],
   "outputs": [],
   "metadata": {}
  },
  {
   "cell_type": "code",
   "execution_count": null,
   "source": [
    "# Process: Select\r\n",
    "arcpy.Select_analysis(Bus_Stops, \r\n",
    "                      Inbound71, \r\n",
    "                      \"NAME = '71 IB' AND BUS_SIGNAG = 'Ferry Plaza'\")\r\n",
    "\r\n"
   ],
   "outputs": [],
   "metadata": {}
  },
  {
   "cell_type": "code",
   "execution_count": null,
   "source": [
    "# Process: Buffer\r\n",
    "arcpy.Buffer_analysis(Inbound71, \r\n",
    "                      Inbound71_400ft_buffer, \r\n",
    "                      \"400 Feet\", \"FULL\", \"ROUND\", \"NONE\", \"\")\r\n",
    "\r\n"
   ],
   "outputs": [],
   "metadata": {}
  },
  {
   "cell_type": "code",
   "execution_count": null,
   "source": [
    "# Process: Intersect\r\n",
    "\r\n",
    "arcpy.Intersect_analysis([Inbound71_400ft_buffer,CensusBlocks2010],\r\n",
    "                         Intersect71Census, \"ALL\", \"\", \"INPUT\")"
   ],
   "outputs": [],
   "metadata": {}
  },
  {
   "cell_type": "code",
   "execution_count": 6,
   "source": [
    "Bus_Stops =\"C:\\\\Data_science_&_GIS\\\\Python_ARCGIS\\\\ArcPy_and_ArcGIS_Second_Edition_Code\\\\Projects\\\\SanFrancisco.gdb\\\\SanFrancisco\\\\Bus_Stops\"\r\n",
    "\r\n"
   ],
   "outputs": [
    {
     "output_type": "execute_result",
     "data": {
      "text/plain": [
       "'C:\\\\Data_science_&_GIS\\\\Python_ARCGIS\\\\ArcPy_and_ArcGIS_Second_Edition_Code\\\\Projects\\\\SanFrancisco.gdb\\\\SanFrancisco\\\\Bus_Stops'"
      ]
     },
     "metadata": {},
     "execution_count": 6
    }
   ],
   "metadata": {}
  }
 ],
 "metadata": {
  "orig_nbformat": 4,
  "language_info": {
   "name": "python",
   "version": "3.8.11",
   "mimetype": "text/x-python",
   "codemirror_mode": {
    "name": "ipython",
    "version": 3
   },
   "pygments_lexer": "ipython3",
   "nbconvert_exporter": "python",
   "file_extension": ".py"
  },
  "kernelspec": {
   "name": "python3",
   "display_name": "Python 3.8.11 64-bit ('base': conda)"
  },
  "interpreter": {
   "hash": "b98c249346471d89313d38af9b2f4931ab4e2677398685c2d946d73d7bfa1e40"
  }
 },
 "nbformat": 4,
 "nbformat_minor": 2
}