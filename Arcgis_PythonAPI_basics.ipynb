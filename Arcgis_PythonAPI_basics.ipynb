{
 "cells": [
  {
   "cell_type": "code",
   "execution_count": 22,
   "id": "2af5c1c4",
   "metadata": {},
   "outputs": [
    {
     "data": {
      "application/vnd.jupyter.widget-view+json": {
       "model_id": "85f1282465d5428d90d6422e16303979",
       "version_major": 2,
       "version_minor": 0
      },
      "text/plain": [
       "MapView(layout=Layout(height='400px', width='100%'))"
      ]
     },
     "metadata": {},
     "output_type": "display_data"
    },
    {
     "data": {
      "text/html": [
       "<div class=\"map-static-img-preview-5c0a584b-bd1f-459c-aee0-69a5178d454c\"><img src=\"\"></img></div>"
      ],
      "text/plain": [
       "<IPython.core.display.HTML object>"
      ]
     },
     "metadata": {},
     "output_type": "display_data"
    },
    {
     "data": {
      "text/html": [
       "<div class=\"map-html-embed-preview-5c0a584b-bd1f-459c-aee0-69a5178d454c\"></div>"
      ],
      "text/plain": [
       "<IPython.core.display.HTML object>"
      ]
     },
     "metadata": {},
     "output_type": "display_data"
    }
   ],
   "source": [
    "\n",
    "from arcgis.gis import GIS\n",
    "my_gis = GIS()\n",
    "m = my_gis.map()\n",
    "m.basemap = 'dark-gray'\n",
    "m"
   ]
  },
  {
   "cell_type": "markdown",
   "id": "e21097ac",
   "metadata": {},
   "source": [
    "### choose one of the following basemaps\n",
    "'dark-gray',\n",
    " 'dark-gray-vector',\n",
    " 'gray',\n",
    " 'gray-vector',\n",
    " 'hybrid',\n",
    " 'national-geographic',\n",
    " 'oceans',\n",
    " 'osm',\n",
    " 'satellite',\n",
    " 'streets',\n",
    " 'streets-navigation-vector',\n",
    " 'streets-night-vector',\n",
    " 'streets-relief-vector',\n",
    " 'streets-vector',\n",
    " 'terrain',\n",
    " 'topo',\n",
    " 'topo-vector'"
   ]
  },
  {
   "cell_type": "code",
   "execution_count": 27,
   "id": "d701e218",
   "metadata": {},
   "outputs": [
    {
     "data": {
      "application/vnd.jupyter.widget-view+json": {
       "model_id": "0d3589f7ee8a40af9f74b0b6f5cf9c55",
       "version_major": 2,
       "version_minor": 0
      },
      "text/plain": [
       "MapView(layout=Layout(height='400px', width='100%'))"
      ]
     },
     "metadata": {},
     "output_type": "display_data"
    },
    {
     "data": {
      "text/html": [
       "<div class=\"map-static-img-preview-68259151-9d38-4f54-b43e-2c7bdd223f48\"><img src=\"\"></img></div>"
      ],
      "text/plain": [
       "<IPython.core.display.HTML object>"
      ]
     },
     "metadata": {},
     "output_type": "display_data"
    },
    {
     "data": {
      "text/html": [
       "<div class=\"map-html-embed-preview-68259151-9d38-4f54-b43e-2c7bdd223f48\"></div>"
      ],
      "text/plain": [
       "<IPython.core.display.HTML object>"
      ]
     },
     "metadata": {},
     "output_type": "display_data"
    }
   ],
   "source": [
    "import arcgis\n",
    "from arcgis.gis import GIS\n",
    "place = 'sarasota'\n",
    "basemap = 'terrain'\n",
    "gis = GIS()\n",
    "\n",
    "map1 = gis.map(place)\n",
    "map1.basemap \n",
    "map1\n"
   ]
  },
  {
   "cell_type": "code",
   "execution_count": 15,
   "id": "d1db882c",
   "metadata": {},
   "outputs": [
    {
     "data": {
      "text/plain": [
       "['dark-gray',\n",
       " 'dark-gray-vector',\n",
       " 'gray',\n",
       " 'gray-vector',\n",
       " 'hybrid',\n",
       " 'national-geographic',\n",
       " 'oceans',\n",
       " 'osm',\n",
       " 'satellite',\n",
       " 'streets',\n",
       " 'streets-navigation-vector',\n",
       " 'streets-night-vector',\n",
       " 'streets-relief-vector',\n",
       " 'streets-vector',\n",
       " 'terrain',\n",
       " 'topo',\n",
       " 'topo-vector']"
      ]
     },
     "execution_count": 15,
     "metadata": {},
     "output_type": "execute_result"
    }
   ],
   "source": [
    "map_types = gis.map()\n",
    "map_types.basemaps"
   ]
  },
  {
   "cell_type": "code",
   "execution_count": 21,
   "id": "68a8ddee",
   "metadata": {
    "scrolled": true
   },
   "outputs": [
    {
     "data": {
      "application/vnd.jupyter.widget-view+json": {
       "model_id": "c236d8be33104e44b075ca9e43e0c3f3",
       "version_major": 2,
       "version_minor": 0
      },
      "text/plain": [
       "MapView(jupyter_target='notebook', layout=Layout(height='400px', width='100%'), ready=True)"
      ]
     },
     "metadata": {},
     "output_type": "display_data"
    },
    {
     "data": {
      "text/html": [
       "<div class=\"map-static-img-preview-764dcc93-738b-4e35-805d-688422389b52\"><img src=\"\"></img></div>"
      ],
      "text/plain": [
       "<IPython.core.display.HTML object>"
      ]
     },
     "metadata": {},
     "output_type": "display_data"
    },
    {
     "data": {
      "text/html": [
       "<div class=\"map-html-embed-preview-764dcc93-738b-4e35-805d-688422389b52\"></div>"
      ],
      "text/plain": [
       "<IPython.core.display.HTML object>"
      ]
     },
     "metadata": {},
     "output_type": "display_data"
    }
   ],
   "source": [
    "map1.zoom = 500\n",
    "\n",
    "map1.basemap = 'dark-gray'\n",
    "map1"
   ]
  },
  {
   "cell_type": "code",
   "execution_count": 3,
   "id": "f6dab1e4",
   "metadata": {},
   "outputs": [
    {
     "data": {
      "text/plain": [
       "[<Item title:\"Sarasota Customer\" type:Feature Layer Collection owner:storkavenue_worldmap>,\n",
       " <Item title:\"Sarasota Heat Map Layers\" type:Feature Layer Collection owner:hallie.diagne@chhj.com>,\n",
       " <Item title:\"Delineations\" type:Feature Layer Collection owner:bawaring>,\n",
       " <Item title:\"Sarasota County Polling Locations\" type:Feature Layer Collection owner:george.thurlo_NewCollege>,\n",
       " <Item title:\"Sarasota County Watersheds\" type:Feature Layer Collection owner:rtwinam>,\n",
       " <Item title:\"Open Space Layers\" type:Feature Layer Collection owner:william.rockwell>,\n",
       " <Item title:\"PublicParks\" type:Feature Layer Collection owner:Payne.Ringling>,\n",
       " <Item title:\"KSMapService\" type:Feature Layer Collection owner:ksmit240_GISandData>,\n",
       " <Item title:\"ManateeSarasotaStudyArea_LK_WFL1\" type:Feature Layer Collection owner:lk36_pns>,\n",
       " <Item title:\"Sarasota Customer\" type:Feature Layer Collection owner:storkavenue_worldmap>]"
      ]
     },
     "execution_count": 3,
     "metadata": {},
     "output_type": "execute_result"
    }
   ],
   "source": [
    "search_result = gis.content.search(query=\"sarasota\", item_type=\"Feature Layer\", outside_org=True)\n",
    "search_result"
   ]
  },
  {
   "cell_type": "code",
   "execution_count": 4,
   "id": "b22f1376",
   "metadata": {},
   "outputs": [
    {
     "data": {
      "text/html": [
       "<div class=\"item_container\" style=\"height: auto; overflow: hidden; border: 1px solid #cfcfcf; border-radius: 2px; background: #f6fafa; line-height: 1.21429em; padding: 10px;\">\n",
       "                    <div class=\"item_left\" style=\"width: 210px; float: left;\">\n",
       "                       <a href='https://www.arcgis.com/home/item.html?id=8f26b203964940718dadbf9b13a4b9e4' target='_blank'>\n",
       "                        <img src='http://static.arcgis.com/images/desktopapp.png' class=\"itemThumbnail\">\n",
       "                       </a>\n",
       "                    </div>\n",
       "\n",
       "                    <div class=\"item_right\"     style=\"float: none; width: auto; overflow: hidden;\">\n",
       "                        <a href='https://www.arcgis.com/home/item.html?id=8f26b203964940718dadbf9b13a4b9e4' target='_blank'><b>Sarasota Customer</b>\n",
       "                        </a>\n",
       "                        <br/><img src='https://www.arcgis.com/home/js/jsapi/esri/css/images/item_type_icons/featureshosted16.png' style=\"vertical-align:middle;\">Feature Layer Collection by storkavenue_worldmap\n",
       "                        <br/>Last Modified: January 11, 2021\n",
       "                        <br/>0 comments, 0 views\n",
       "                    </div>\n",
       "                </div>\n",
       "                "
      ],
      "text/plain": [
       "<Item title:\"Sarasota Customer\" type:Feature Layer Collection owner:storkavenue_worldmap>"
      ]
     },
     "metadata": {},
     "output_type": "display_data"
    },
    {
     "data": {
      "text/html": [
       "<div class=\"item_container\" style=\"height: auto; overflow: hidden; border: 1px solid #cfcfcf; border-radius: 2px; background: #f6fafa; line-height: 1.21429em; padding: 10px;\">\n",
       "                    <div class=\"item_left\" style=\"width: 210px; float: left;\">\n",
       "                       <a href='https://www.arcgis.com/home/item.html?id=28605ffebd1f41bd9837b4419dbd46bb' target='_blank'>\n",
       "                        <img src='http://static.arcgis.com/images/desktopapp.png' class=\"itemThumbnail\">\n",
       "                       </a>\n",
       "                    </div>\n",
       "\n",
       "                    <div class=\"item_right\"     style=\"float: none; width: auto; overflow: hidden;\">\n",
       "                        <a href='https://www.arcgis.com/home/item.html?id=28605ffebd1f41bd9837b4419dbd46bb' target='_blank'><b>Sarasota Heat Map Layers</b>\n",
       "                        </a>\n",
       "                        <br/><img src='https://www.arcgis.com/home/js/jsapi/esri/css/images/item_type_icons/featureshosted16.png' style=\"vertical-align:middle;\">Feature Layer Collection by hallie.diagne@chhj.com\n",
       "                        <br/>Last Modified: April 04, 2019\n",
       "                        <br/>0 comments, 75 views\n",
       "                    </div>\n",
       "                </div>\n",
       "                "
      ],
      "text/plain": [
       "<Item title:\"Sarasota Heat Map Layers\" type:Feature Layer Collection owner:hallie.diagne@chhj.com>"
      ]
     },
     "metadata": {},
     "output_type": "display_data"
    },
    {
     "data": {
      "text/html": [
       "<div class=\"item_container\" style=\"height: auto; overflow: hidden; border: 1px solid #cfcfcf; border-radius: 2px; background: #f6fafa; line-height: 1.21429em; padding: 10px;\">\n",
       "                    <div class=\"item_left\" style=\"width: 210px; float: left;\">\n",
       "                       <a href='https://www.arcgis.com/home/item.html?id=9348e2c01f0d4aacbfacef3e5213901b' target='_blank'>\n",
       "                        <img src='https://www.arcgis.com/sharing/rest//content/items/9348e2c01f0d4aacbfacef3e5213901b/info/thumbnail/ago_downloaded.gif' class=\"itemThumbnail\">\n",
       "                       </a>\n",
       "                    </div>\n",
       "\n",
       "                    <div class=\"item_right\"     style=\"float: none; width: auto; overflow: hidden;\">\n",
       "                        <a href='https://www.arcgis.com/home/item.html?id=9348e2c01f0d4aacbfacef3e5213901b' target='_blank'><b>Delineations</b>\n",
       "                        </a>\n",
       "                        <br/><img src='https://www.arcgis.com/home/js/jsapi/esri/css/images/item_type_icons/featureshosted16.png' style=\"vertical-align:middle;\">Feature Layer Collection by bawaring\n",
       "                        <br/>Last Modified: November 21, 2017\n",
       "                        <br/>0 comments, 381 views\n",
       "                    </div>\n",
       "                </div>\n",
       "                "
      ],
      "text/plain": [
       "<Item title:\"Delineations\" type:Feature Layer Collection owner:bawaring>"
      ]
     },
     "metadata": {},
     "output_type": "display_data"
    },
    {
     "data": {
      "text/html": [
       "<div class=\"item_container\" style=\"height: auto; overflow: hidden; border: 1px solid #cfcfcf; border-radius: 2px; background: #f6fafa; line-height: 1.21429em; padding: 10px;\">\n",
       "                    <div class=\"item_left\" style=\"width: 210px; float: left;\">\n",
       "                       <a href='https://www.arcgis.com/home/item.html?id=8fb869a769c543c884b65338559fac2e' target='_blank'>\n",
       "                        <img src='https://www.arcgis.com/sharing/rest//content/items/8fb869a769c543c884b65338559fac2e/info/thumbnail/ago_downloaded.png' class=\"itemThumbnail\">\n",
       "                       </a>\n",
       "                    </div>\n",
       "\n",
       "                    <div class=\"item_right\"     style=\"float: none; width: auto; overflow: hidden;\">\n",
       "                        <a href='https://www.arcgis.com/home/item.html?id=8fb869a769c543c884b65338559fac2e' target='_blank'><b>Sarasota County Polling Locations</b>\n",
       "                        </a>\n",
       "                        <br/><img src='https://www.arcgis.com/home/js/jsapi/esri/css/images/item_type_icons/featureshosted16.png' style=\"vertical-align:middle;\">Feature Layer Collection by george.thurlo_NewCollege\n",
       "                        <br/>Last Modified: May 17, 2015\n",
       "                        <br/>0 comments, 88 views\n",
       "                    </div>\n",
       "                </div>\n",
       "                "
      ],
      "text/plain": [
       "<Item title:\"Sarasota County Polling Locations\" type:Feature Layer Collection owner:george.thurlo_NewCollege>"
      ]
     },
     "metadata": {},
     "output_type": "display_data"
    },
    {
     "data": {
      "text/html": [
       "<div class=\"item_container\" style=\"height: auto; overflow: hidden; border: 1px solid #cfcfcf; border-radius: 2px; background: #f6fafa; line-height: 1.21429em; padding: 10px;\">\n",
       "                    <div class=\"item_left\" style=\"width: 210px; float: left;\">\n",
       "                       <a href='https://www.arcgis.com/home/item.html?id=aaf0d9558ecb4fb393cef3576242eb5e' target='_blank'>\n",
       "                        <img src='https://www.arcgis.com/sharing/rest//content/items/aaf0d9558ecb4fb393cef3576242eb5e/info/thumbnail/ago_downloaded.png' class=\"itemThumbnail\">\n",
       "                       </a>\n",
       "                    </div>\n",
       "\n",
       "                    <div class=\"item_right\"     style=\"float: none; width: auto; overflow: hidden;\">\n",
       "                        <a href='https://www.arcgis.com/home/item.html?id=aaf0d9558ecb4fb393cef3576242eb5e' target='_blank'><b>Sarasota County Watersheds</b>\n",
       "                        </a>\n",
       "                        <br/><img src='https://www.arcgis.com/home/js/jsapi/esri/css/images/item_type_icons/featureshosted16.png' style=\"vertical-align:middle;\">Feature Layer Collection by rtwinam\n",
       "                        <br/>Last Modified: April 27, 2017\n",
       "                        <br/>0 comments, 221 views\n",
       "                    </div>\n",
       "                </div>\n",
       "                "
      ],
      "text/plain": [
       "<Item title:\"Sarasota County Watersheds\" type:Feature Layer Collection owner:rtwinam>"
      ]
     },
     "metadata": {},
     "output_type": "display_data"
    },
    {
     "data": {
      "text/html": [
       "<div class=\"item_container\" style=\"height: auto; overflow: hidden; border: 1px solid #cfcfcf; border-radius: 2px; background: #f6fafa; line-height: 1.21429em; padding: 10px;\">\n",
       "                    <div class=\"item_left\" style=\"width: 210px; float: left;\">\n",
       "                       <a href='https://www.arcgis.com/home/item.html?id=feaca763dc554b4dbaa838021ffa84bc' target='_blank'>\n",
       "                        <img src='https://www.arcgis.com/sharing/rest//content/items/feaca763dc554b4dbaa838021ffa84bc/info/thumbnail/thumbnail.png' class=\"itemThumbnail\">\n",
       "                       </a>\n",
       "                    </div>\n",
       "\n",
       "                    <div class=\"item_right\"     style=\"float: none; width: auto; overflow: hidden;\">\n",
       "                        <a href='https://www.arcgis.com/home/item.html?id=feaca763dc554b4dbaa838021ffa84bc' target='_blank'><b>Open Space Layers</b>\n",
       "                        </a>\n",
       "                        <br/>Open Space Layers in the SFHA 2019<img src='https://www.arcgis.com/home/js/jsapi/esri/css/images/item_type_icons/featureshosted16.png' style=\"vertical-align:middle;\">Feature Layer Collection by william.rockwell\n",
       "                        <br/>Last Modified: August 27, 2019\n",
       "                        <br/>0 comments, 21 views\n",
       "                    </div>\n",
       "                </div>\n",
       "                "
      ],
      "text/plain": [
       "<Item title:\"Open Space Layers\" type:Feature Layer Collection owner:william.rockwell>"
      ]
     },
     "metadata": {},
     "output_type": "display_data"
    },
    {
     "data": {
      "text/html": [
       "<div class=\"item_container\" style=\"height: auto; overflow: hidden; border: 1px solid #cfcfcf; border-radius: 2px; background: #f6fafa; line-height: 1.21429em; padding: 10px;\">\n",
       "                    <div class=\"item_left\" style=\"width: 210px; float: left;\">\n",
       "                       <a href='https://www.arcgis.com/home/item.html?id=cda3e239319d453aac9cf19a169c20f6' target='_blank'>\n",
       "                        <img src='https://www.arcgis.com/sharing/rest//content/items/cda3e239319d453aac9cf19a169c20f6/info/thumbnail/thumbnail.png' class=\"itemThumbnail\">\n",
       "                       </a>\n",
       "                    </div>\n",
       "\n",
       "                    <div class=\"item_right\"     style=\"float: none; width: auto; overflow: hidden;\">\n",
       "                        <a href='https://www.arcgis.com/home/item.html?id=cda3e239319d453aac9cf19a169c20f6' target='_blank'><b>PublicParks</b>\n",
       "                        </a>\n",
       "                        <br/>City of Sarasota Parks and Recreational Areas<img src='https://www.arcgis.com/home/js/jsapi/esri/css/images/item_type_icons/featureshosted16.png' style=\"vertical-align:middle;\">Feature Layer Collection by Payne.Ringling\n",
       "                        <br/>Last Modified: October 07, 2019\n",
       "                        <br/>0 comments, 269 views\n",
       "                    </div>\n",
       "                </div>\n",
       "                "
      ],
      "text/plain": [
       "<Item title:\"PublicParks\" type:Feature Layer Collection owner:Payne.Ringling>"
      ]
     },
     "metadata": {},
     "output_type": "display_data"
    },
    {
     "data": {
      "text/html": [
       "<div class=\"item_container\" style=\"height: auto; overflow: hidden; border: 1px solid #cfcfcf; border-radius: 2px; background: #f6fafa; line-height: 1.21429em; padding: 10px;\">\n",
       "                    <div class=\"item_left\" style=\"width: 210px; float: left;\">\n",
       "                       <a href='https://www.arcgis.com/home/item.html?id=99a3e73b565640d8a61de9eee4083196' target='_blank'>\n",
       "                        <img src='https://www.arcgis.com/sharing/rest//content/items/99a3e73b565640d8a61de9eee4083196/info/thumbnail/thumbnail.png' class=\"itemThumbnail\">\n",
       "                       </a>\n",
       "                    </div>\n",
       "\n",
       "                    <div class=\"item_right\"     style=\"float: none; width: auto; overflow: hidden;\">\n",
       "                        <a href='https://www.arcgis.com/home/item.html?id=99a3e73b565640d8a61de9eee4083196' target='_blank'><b>KSMapService</b>\n",
       "                        </a>\n",
       "                        <br/>Points of loggerhead strandings in Sarasota County, Florida for 2013.<img src='https://www.arcgis.com/home/js/jsapi/esri/css/images/item_type_icons/featureshosted16.png' style=\"vertical-align:middle;\">Feature Layer Collection by ksmit240_GISandData\n",
       "                        <br/>Last Modified: October 20, 2016\n",
       "                        <br/>0 comments, 106 views\n",
       "                    </div>\n",
       "                </div>\n",
       "                "
      ],
      "text/plain": [
       "<Item title:\"KSMapService\" type:Feature Layer Collection owner:ksmit240_GISandData>"
      ]
     },
     "metadata": {},
     "output_type": "display_data"
    },
    {
     "data": {
      "text/html": [
       "<div class=\"item_container\" style=\"height: auto; overflow: hidden; border: 1px solid #cfcfcf; border-radius: 2px; background: #f6fafa; line-height: 1.21429em; padding: 10px;\">\n",
       "                    <div class=\"item_left\" style=\"width: 210px; float: left;\">\n",
       "                       <a href='https://www.arcgis.com/home/item.html?id=d9c204da89f14ce79ad55318aeee442e' target='_blank'>\n",
       "                        <img src='https://www.arcgis.com/sharing/rest//content/items/d9c204da89f14ce79ad55318aeee442e/info/thumbnail/thumbnail.png' class=\"itemThumbnail\">\n",
       "                       </a>\n",
       "                    </div>\n",
       "\n",
       "                    <div class=\"item_right\"     style=\"float: none; width: auto; overflow: hidden;\">\n",
       "                        <a href='https://www.arcgis.com/home/item.html?id=d9c204da89f14ce79ad55318aeee442e' target='_blank'><b>ManateeSarasotaStudyArea_LK_WFL1</b>\n",
       "                        </a>\n",
       "                        <br/>Study area for the Bobwhite Manatee Transmission line<img src='https://www.arcgis.com/home/js/jsapi/esri/css/images/item_type_icons/featureshosted16.png' style=\"vertical-align:middle;\">Feature Layer Collection by lk36_pns\n",
       "                        <br/>Last Modified: February 28, 2020\n",
       "                        <br/>0 comments, 51 views\n",
       "                    </div>\n",
       "                </div>\n",
       "                "
      ],
      "text/plain": [
       "<Item title:\"ManateeSarasotaStudyArea_LK_WFL1\" type:Feature Layer Collection owner:lk36_pns>"
      ]
     },
     "metadata": {},
     "output_type": "display_data"
    },
    {
     "data": {
      "text/html": [
       "<div class=\"item_container\" style=\"height: auto; overflow: hidden; border: 1px solid #cfcfcf; border-radius: 2px; background: #f6fafa; line-height: 1.21429em; padding: 10px;\">\n",
       "                    <div class=\"item_left\" style=\"width: 210px; float: left;\">\n",
       "                       <a href='https://www.arcgis.com/home/item.html?id=974968ddfbdc48cea89d2f7a9032e8aa' target='_blank'>\n",
       "                        <img src='http://static.arcgis.com/images/desktopapp.png' class=\"itemThumbnail\">\n",
       "                       </a>\n",
       "                    </div>\n",
       "\n",
       "                    <div class=\"item_right\"     style=\"float: none; width: auto; overflow: hidden;\">\n",
       "                        <a href='https://www.arcgis.com/home/item.html?id=974968ddfbdc48cea89d2f7a9032e8aa' target='_blank'><b>Sarasota Customer</b>\n",
       "                        </a>\n",
       "                        <br/><img src='https://www.arcgis.com/home/js/jsapi/esri/css/images/item_type_icons/featureshosted16.png' style=\"vertical-align:middle;\">Feature Layer Collection by storkavenue_worldmap\n",
       "                        <br/>Last Modified: April 08, 2021\n",
       "                        <br/>0 comments, 4 views\n",
       "                    </div>\n",
       "                </div>\n",
       "                "
      ],
      "text/plain": [
       "<Item title:\"Sarasota Customer\" type:Feature Layer Collection owner:storkavenue_worldmap>"
      ]
     },
     "metadata": {},
     "output_type": "display_data"
    }
   ],
   "source": [
    "from IPython.display import display\n",
    "for item in search_result:\n",
    "    display(item)"
   ]
  },
  {
   "cell_type": "code",
   "execution_count": null,
   "id": "76f7a0fd",
   "metadata": {},
   "outputs": [],
   "source": []
  },
  {
   "cell_type": "code",
   "execution_count": 5,
   "id": "46041423",
   "metadata": {},
   "outputs": [
    {
     "data": {
      "text/html": [
       "<div class=\"item_container\" style=\"height: auto; overflow: hidden; border: 1px solid #cfcfcf; border-radius: 2px; background: #f6fafa; line-height: 1.21429em; padding: 10px;\">\n",
       "                    <div class=\"item_left\" style=\"width: 210px; float: left;\">\n",
       "                       <a href='https://www.arcgis.com/home/item.html?id=a7412d0c33be4de698ad981c8ba471e6' target='_blank'>\n",
       "                        <img src='https://www.arcgis.com/sharing/rest//content/items/a7412d0c33be4de698ad981c8ba471e6/info/thumbnail/thumbnail1576628795184.jpeg' class=\"itemThumbnail\">\n",
       "                       </a>\n",
       "                    </div>\n",
       "\n",
       "                    <div class=\"item_right\"     style=\"float: none; width: auto; overflow: hidden;\">\n",
       "                        <a href='https://www.arcgis.com/home/item.html?id=a7412d0c33be4de698ad981c8ba471e6' target='_blank'><b>Pansharpened Landsat</b>\n",
       "                        </a>\n",
       "                        <br/>Landsat pansharpened and multitemporal 15m imagery rendered on-the-fly as Natural Color with DRA for visualization and analysis. It is updated daily with new imagery directly sourced from the USGS Landsat collection on AWS.<img src='https://www.arcgis.com/home/js/jsapi/esri/css/images/item_type_icons/imagery16.png' style=\"vertical-align:middle;\">Imagery Layer by esri\n",
       "                        <br/>Last Modified: June 28, 2021\n",
       "                        <br/>1 comments, 202,664 views\n",
       "                    </div>\n",
       "                </div>\n",
       "                "
      ],
      "text/plain": [
       "<Item title:\"Pansharpened Landsat\" type:Imagery Layer owner:esri>"
      ]
     },
     "metadata": {},
     "output_type": "display_data"
    },
    {
     "data": {
      "text/html": [
       "<div class=\"item_container\" style=\"height: auto; overflow: hidden; border: 1px solid #cfcfcf; border-radius: 2px; background: #f6fafa; line-height: 1.21429em; padding: 10px;\">\n",
       "                    <div class=\"item_left\" style=\"width: 210px; float: left;\">\n",
       "                       <a href='https://www.arcgis.com/home/item.html?id=6b003010cbe64d5d8fd3ce00332593bf' target='_blank'>\n",
       "                        <img src='https://www.arcgis.com/sharing/rest//content/items/6b003010cbe64d5d8fd3ce00332593bf/info/thumbnail/thumbnail1576625332263.jpeg' class=\"itemThumbnail\">\n",
       "                       </a>\n",
       "                    </div>\n",
       "\n",
       "                    <div class=\"item_right\"     style=\"float: none; width: auto; overflow: hidden;\">\n",
       "                        <a href='https://www.arcgis.com/home/item.html?id=6b003010cbe64d5d8fd3ce00332593bf' target='_blank'><b>Panchromatic Landsat</b>\n",
       "                        </a>\n",
       "                        <br/>Landsat panchromatic and multitemporal 15m imagery with on-the-fly renderings and indices for visualization and analysis. It is updated daily with new imagery directly sourced from the USGS Landsat collection on AWS.<img src='https://www.arcgis.com/home/js/jsapi/esri/css/images/item_type_icons/imagery16.png' style=\"vertical-align:middle;\">Imagery Layer by esri\n",
       "                        <br/>Last Modified: August 02, 2021\n",
       "                        <br/>1 comments, 64,584 views\n",
       "                    </div>\n",
       "                </div>\n",
       "                "
      ],
      "text/plain": [
       "<Item title:\"Panchromatic Landsat\" type:Imagery Layer owner:esri>"
      ]
     },
     "metadata": {},
     "output_type": "display_data"
    },
    {
     "data": {
      "text/plain": [
       "{\n",
       "  \"currentVersion\": 10.9,\n",
       "  \"serviceDescription\": \"Pan-sharpened Landsat GLS image service covering the landmass of the World. This service includes Panchromatic (Band 8) scenes at 15 meter resolution pan-sharpened with Natural Color bands (Red, Green, Blue) at 30 meter resolution from Landsat 8, Landsat 7 ETM, Landsat 5 TM, Landsat 4, as well as  Global Land Survey (GLS) data from years 2000, 2005 and 2010. Using on-the-fly processing, the raw DN values are transformed to scaled (0 - 10000) apparent reflectance values and then different enhancement renderings are applied. The band names are in line with Landsat 8 bands and the GLS data band names are also mapped along the same lines.\",\n",
       "  \"name\": \"Landsat/PS\",\n",
       "  \"description\": \"Pan-sharpened Landsat GLS image service covering the landmass of the World. This service includes Panchromatic (Band 8) scenes at 15 meter resolution pan-sharpened with Natural Color bands (Red, Green, Blue) at 30 meter resolution from Landsat 8, Landsat 7 ETM, Landsat 5 TM, Landsat 4, as well as  Global Land Survey (GLS) data from years 2000, 2005 and 2010. Using on-the-fly processing, the raw DN values are transformed to scaled (0 - 10000) apparent reflectance values and then different enhancement renderings are applied. The band names are in line with Landsat 8 bands and the GLS data band names are also mapped along the same lines.\",\n",
       "  \"extent\": {\n",
       "    \"xmin\": -20037507.0672,\n",
       "    \"ymin\": -9694106.070299998,\n",
       "    \"xmax\": 20037507.842788246,\n",
       "    \"ymax\": 9691188.929700002,\n",
       "    \"spatialReference\": {\n",
       "      \"wkid\": 102100,\n",
       "      \"latestWkid\": 3857\n",
       "    }\n",
       "  },\n",
       "  \"initialExtent\": {\n",
       "    \"xmin\": -20037507.0672,\n",
       "    \"ymin\": -9694106.070299998,\n",
       "    \"xmax\": 20037507.842788246,\n",
       "    \"ymax\": 9691188.929700002,\n",
       "    \"spatialReference\": {\n",
       "      \"wkid\": 102100,\n",
       "      \"latestWkid\": 3857\n",
       "    }\n",
       "  },\n",
       "  \"fullExtent\": {\n",
       "    \"xmin\": -20037507.0672,\n",
       "    \"ymin\": -9694106.070299998,\n",
       "    \"xmax\": 20037507.842788246,\n",
       "    \"ymax\": 9691188.929700002,\n",
       "    \"spatialReference\": {\n",
       "      \"wkid\": 102100,\n",
       "      \"latestWkid\": 3857\n",
       "    }\n",
       "  },\n",
       "  \"hasMultidimensions\": false,\n",
       "  \"timeInfo\": {\n",
       "    \"startTimeField\": \"AcquisitionDate\",\n",
       "    \"endTimeField\": \"AcquisitionDate\",\n",
       "    \"timeExtent\": [\n",
       "      915148800000,\n",
       "      1630390948000\n",
       "    ],\n",
       "    \"timeReference\": null\n",
       "  },\n",
       "  \"pixelSizeX\": 14.99999809481876,\n",
       "  \"pixelSizeY\": 15,\n",
       "  \"datasetFormat\": \"AMD\",\n",
       "  \"uncompressedSize\": 20716428928824,\n",
       "  \"blockWidth\": 2048,\n",
       "  \"blockHeight\": 256,\n",
       "  \"compressionType\": \"None\",\n",
       "  \"bandNames\": [\n",
       "    \"Band_1\",\n",
       "    \"Band_2\",\n",
       "    \"Band_3\"\n",
       "  ],\n",
       "  \"allowCopy\": true,\n",
       "  \"allowAnalysis\": true,\n",
       "  \"bandCount\": 3,\n",
       "  \"pixelType\": \"S16\",\n",
       "  \"minPixelSize\": 0,\n",
       "  \"maxPixelSize\": 0,\n",
       "  \"copyrightText\": \"\",\n",
       "  \"serviceDataType\": \"esriImageServiceDataTypeGeneric\",\n",
       "  \"serviceSourceType\": \"esriImageServiceSourceTypeMosaicDataset\",\n",
       "  \"minValues\": [\n",
       "    0,\n",
       "    0,\n",
       "    0\n",
       "  ],\n",
       "  \"maxValues\": [\n",
       "    10000,\n",
       "    10000,\n",
       "    10000\n",
       "  ],\n",
       "  \"meanValues\": [\n",
       "    3500,\n",
       "    3500,\n",
       "    3500\n",
       "  ],\n",
       "  \"stdvValues\": [\n",
       "    1250,\n",
       "    1250,\n",
       "    1250\n",
       "  ],\n",
       "  \"objectIdField\": \"OBJECTID\",\n",
       "  \"fields\": [\n",
       "    {\n",
       "      \"name\": \"OBJECTID\",\n",
       "      \"type\": \"esriFieldTypeOID\",\n",
       "      \"alias\": \"OBJECTID\",\n",
       "      \"domain\": null\n",
       "    },\n",
       "    {\n",
       "      \"name\": \"Name\",\n",
       "      \"type\": \"esriFieldTypeString\",\n",
       "      \"alias\": \"Name\",\n",
       "      \"domain\": null,\n",
       "      \"length\": 200\n",
       "    },\n",
       "    {\n",
       "      \"name\": \"MinPS\",\n",
       "      \"type\": \"esriFieldTypeDouble\",\n",
       "      \"alias\": \"MinPS\",\n",
       "      \"domain\": null\n",
       "    },\n",
       "    {\n",
       "      \"name\": \"MaxPS\",\n",
       "      \"type\": \"esriFieldTypeDouble\",\n",
       "      \"alias\": \"MaxPS\",\n",
       "      \"domain\": null\n",
       "    },\n",
       "    {\n",
       "      \"name\": \"LowPS\",\n",
       "      \"type\": \"esriFieldTypeDouble\",\n",
       "      \"alias\": \"LowPS\",\n",
       "      \"domain\": null\n",
       "    },\n",
       "    {\n",
       "      \"name\": \"HighPS\",\n",
       "      \"type\": \"esriFieldTypeDouble\",\n",
       "      \"alias\": \"HighPS\",\n",
       "      \"domain\": null\n",
       "    },\n",
       "    {\n",
       "      \"name\": \"Category\",\n",
       "      \"type\": \"esriFieldTypeInteger\",\n",
       "      \"alias\": \"Category\",\n",
       "      \"domain\": {\n",
       "        \"type\": \"codedValue\",\n",
       "        \"name\": \"MosaicCatalogItemCategoryDomain\",\n",
       "        \"description\": \"Catalog item categories.\",\n",
       "        \"codedValues\": [\n",
       "          {\n",
       "            \"name\": \"Unknown\",\n",
       "            \"code\": 0\n",
       "          },\n",
       "          {\n",
       "            \"name\": \"Primary\",\n",
       "            \"code\": 1\n",
       "          },\n",
       "          {\n",
       "            \"name\": \"Overview\",\n",
       "            \"code\": 2\n",
       "          },\n",
       "          {\n",
       "            \"name\": \"Unprocessed Overview\",\n",
       "            \"code\": 3\n",
       "          },\n",
       "          {\n",
       "            \"name\": \"Partial Overview\",\n",
       "            \"code\": 4\n",
       "          },\n",
       "          {\n",
       "            \"name\": \"Inactive\",\n",
       "            \"code\": 5\n",
       "          },\n",
       "          {\n",
       "            \"name\": \"Uploaded\",\n",
       "            \"code\": 253\n",
       "          },\n",
       "          {\n",
       "            \"name\": \"Incomplete\",\n",
       "            \"code\": 254\n",
       "          },\n",
       "          {\n",
       "            \"name\": \"Custom\",\n",
       "            \"code\": 255\n",
       "          }\n",
       "        ],\n",
       "        \"mergePolicy\": \"esriMPTDefaultValue\",\n",
       "        \"splitPolicy\": \"esriSPTDefaultValue\"\n",
       "      }\n",
       "    },\n",
       "    {\n",
       "      \"name\": \"GroupName\",\n",
       "      \"type\": \"esriFieldTypeString\",\n",
       "      \"alias\": \"GroupName\",\n",
       "      \"domain\": null,\n",
       "      \"length\": 100\n",
       "    },\n",
       "    {\n",
       "      \"name\": \"ProductName\",\n",
       "      \"type\": \"esriFieldTypeString\",\n",
       "      \"alias\": \"ProductName\",\n",
       "      \"domain\": null,\n",
       "      \"length\": 100\n",
       "    },\n",
       "    {\n",
       "      \"name\": \"CenterX\",\n",
       "      \"type\": \"esriFieldTypeDouble\",\n",
       "      \"alias\": \"CenterX\",\n",
       "      \"domain\": null\n",
       "    },\n",
       "    {\n",
       "      \"name\": \"CenterY\",\n",
       "      \"type\": \"esriFieldTypeDouble\",\n",
       "      \"alias\": \"CenterY\",\n",
       "      \"domain\": null\n",
       "    },\n",
       "    {\n",
       "      \"name\": \"Shape\",\n",
       "      \"type\": \"esriFieldTypeGeometry\",\n",
       "      \"alias\": \"Shape\",\n",
       "      \"domain\": null\n",
       "    },\n",
       "    {\n",
       "      \"name\": \"SensorName\",\n",
       "      \"type\": \"esriFieldTypeString\",\n",
       "      \"alias\": \"Sensor Name\",\n",
       "      \"domain\": null,\n",
       "      \"length\": 20\n",
       "    },\n",
       "    {\n",
       "      \"name\": \"AcquisitionDate\",\n",
       "      \"type\": \"esriFieldTypeDate\",\n",
       "      \"alias\": \"Acquisition Date\",\n",
       "      \"domain\": null,\n",
       "      \"length\": 8\n",
       "    },\n",
       "    {\n",
       "      \"name\": \"SunAzimuth\",\n",
       "      \"type\": \"esriFieldTypeDouble\",\n",
       "      \"alias\": \"Sun Azimuth\",\n",
       "      \"domain\": null\n",
       "    },\n",
       "    {\n",
       "      \"name\": \"SunElevation\",\n",
       "      \"type\": \"esriFieldTypeDouble\",\n",
       "      \"alias\": \"Sun Elevation\",\n",
       "      \"domain\": null\n",
       "    },\n",
       "    {\n",
       "      \"name\": \"CloudCover\",\n",
       "      \"type\": \"esriFieldTypeDouble\",\n",
       "      \"alias\": \"Cloud Cover\",\n",
       "      \"domain\": null\n",
       "    },\n",
       "    {\n",
       "      \"name\": \"Best\",\n",
       "      \"type\": \"esriFieldTypeInteger\",\n",
       "      \"alias\": \"Best\",\n",
       "      \"domain\": null\n",
       "    },\n",
       "    {\n",
       "      \"name\": \"DateUpdated\",\n",
       "      \"type\": \"esriFieldTypeDate\",\n",
       "      \"alias\": \"DateUpdated\",\n",
       "      \"domain\": null,\n",
       "      \"length\": 8\n",
       "    },\n",
       "    {\n",
       "      \"name\": \"PR\",\n",
       "      \"type\": \"esriFieldTypeInteger\",\n",
       "      \"alias\": \"PR\",\n",
       "      \"domain\": null\n",
       "    },\n",
       "    {\n",
       "      \"name\": \"Latest\",\n",
       "      \"type\": \"esriFieldTypeInteger\",\n",
       "      \"alias\": \"Latest\",\n",
       "      \"domain\": null\n",
       "    },\n",
       "    {\n",
       "      \"name\": \"DayOfYear\",\n",
       "      \"type\": \"esriFieldTypeInteger\",\n",
       "      \"alias\": \"DayOfYear\",\n",
       "      \"domain\": null\n",
       "    },\n",
       "    {\n",
       "      \"name\": \"Month\",\n",
       "      \"type\": \"esriFieldTypeSmallInteger\",\n",
       "      \"alias\": \"Month\",\n",
       "      \"domain\": null\n",
       "    },\n",
       "    {\n",
       "      \"name\": \"LANDSAT_PRODUCT_ID\",\n",
       "      \"type\": \"esriFieldTypeString\",\n",
       "      \"alias\": \"LANDSAT_PRODUCT_ID\",\n",
       "      \"domain\": null,\n",
       "      \"length\": 50\n",
       "    },\n",
       "    {\n",
       "      \"name\": \"dataset_id\",\n",
       "      \"type\": \"esriFieldTypeString\",\n",
       "      \"alias\": \"dataset_id\",\n",
       "      \"domain\": null,\n",
       "      \"length\": 50\n",
       "    },\n",
       "    {\n",
       "      \"name\": \"WRS_Path\",\n",
       "      \"type\": \"esriFieldTypeInteger\",\n",
       "      \"alias\": \"WRS_Path\",\n",
       "      \"domain\": null\n",
       "    },\n",
       "    {\n",
       "      \"name\": \"WRS_Row\",\n",
       "      \"type\": \"esriFieldTypeInteger\",\n",
       "      \"alias\": \"WRS_Row\",\n",
       "      \"domain\": null\n",
       "    }\n",
       "  ],\n",
       "  \"capabilities\": \"Catalog,Image,Metadata\",\n",
       "  \"defaultMosaicMethod\": \"ByAttribute\",\n",
       "  \"allowedMosaicMethods\": \"ByAttribute,NorthWest,Center,LockRaster,Nadir,None\",\n",
       "  \"sortField\": \"Best\",\n",
       "  \"sortValue\": \"0\",\n",
       "  \"sortAscending\": true,\n",
       "  \"mosaicOperator\": \"First\",\n",
       "  \"maxDownloadSizeLimit\": 2048,\n",
       "  \"defaultCompressionQuality\": 85,\n",
       "  \"defaultResamplingMethod\": \"Bilinear\",\n",
       "  \"maxImageHeight\": 4000,\n",
       "  \"maxImageWidth\": 4000,\n",
       "  \"maxRecordCount\": 1000,\n",
       "  \"maxDownloadImageCount\": 20,\n",
       "  \"maxMosaicImageCount\": 20,\n",
       "  \"allowRasterFunction\": true,\n",
       "  \"rasterFunctionInfos\": [\n",
       "    {\n",
       "      \"name\": \"Pansharpened Enhanced with DRA\",\n",
       "      \"description\": \"Natural Color bands red, green, blue(4, 3, 2) pansharpened with 15m panchromatic band 8 and dynamic range adjustment applied on apparent reflectance.\",\n",
       "      \"help\": \"\"\n",
       "    },\n",
       "    {\n",
       "      \"name\": \"Pansharpened Natural Color\",\n",
       "      \"description\": \"Natural Color bands red, green, blue(4, 3, 2) pansharpened with 15m panchromatic band 8 and fixed stretch applied on apparent reflectance.\",\n",
       "      \"help\": \"\"\n",
       "    },\n",
       "    {\n",
       "      \"name\": \"None\",\n",
       "      \"description\": \"\",\n",
       "      \"help\": \"\"\n",
       "    }\n",
       "  ],\n",
       "  \"rasterTypeInfos\": [\n",
       "    {\n",
       "      \"name\": \"Raster Dataset\",\n",
       "      \"description\": \"Supports all ArcGIS Raster Datasets\",\n",
       "      \"help\": \"\"\n",
       "    }\n",
       "  ],\n",
       "  \"mensurationCapabilities\": \"\",\n",
       "  \"hasHistograms\": false,\n",
       "  \"hasColormap\": false,\n",
       "  \"hasRasterAttributeTable\": false,\n",
       "  \"minScale\": 0,\n",
       "  \"maxScale\": 0,\n",
       "  \"exportTilesAllowed\": false,\n",
       "  \"supportsStatistics\": true,\n",
       "  \"supportsAdvancedQueries\": true,\n",
       "  \"editFieldsInfo\": null,\n",
       "  \"ownershipBasedAccessControlForRasters\": null,\n",
       "  \"allowComputeTiePoints\": false,\n",
       "  \"useStandardizedQueries\": true,\n",
       "  \"advancedQueryCapabilities\": {\n",
       "    \"useStandardizedQueries\": true,\n",
       "    \"supportsStatistics\": true,\n",
       "    \"supportsOrderBy\": true,\n",
       "    \"supportsDistinct\": true,\n",
       "    \"supportsPagination\": true\n",
       "  },\n",
       "  \"spatialReference\": {\n",
       "    \"wkid\": 102100,\n",
       "    \"latestWkid\": 3857\n",
       "  }\n",
       "}"
      ]
     },
     "execution_count": 5,
     "metadata": {},
     "output_type": "execute_result"
    }
   ],
   "source": [
    "import arcgis\n",
    "from arcgis.gis import GIS\n",
    "from IPython.display import display\n",
    "gis = GIS()\n",
    "\n",
    "items = gis.content.search(\"Landsat 8 Views\", item_type=\"Imagery Layer\", max_items=2)\n",
    "\n",
    "for item in items:\n",
    "    display(item)\n",
    "\n",
    "l8_view = items[0]\n",
    "\n",
    "l8_view.layers\n",
    "\n",
    "l8_lyr = l8_view.layers[0]\n",
    "\n",
    "l8_lyr.properties"
   ]
  },
  {
   "cell_type": "code",
   "execution_count": null,
   "id": "a6b5aa49",
   "metadata": {},
   "outputs": [],
   "source": []
  },
  {
   "cell_type": "markdown",
   "id": "5892e06c",
   "metadata": {},
   "source": [
    "### Raster data imposed."
   ]
  },
  {
   "cell_type": "code",
   "execution_count": 8,
   "id": "f500e054",
   "metadata": {},
   "outputs": [
    {
     "name": "stdout",
     "output_type": "stream",
     "text": [
      "Pansharpened Enhanced with DRA\n",
      "Pansharpened Natural Color\n",
      "None\n"
     ]
    },
    {
     "data": {
      "application/vnd.jupyter.widget-view+json": {
       "model_id": "672a5a13e8904e26b78ee05657a7c52f",
       "version_major": 2,
       "version_minor": 0
      },
      "text/plain": [
       "MapView(layout=Layout(height='400px', width='100%'))"
      ]
     },
     "metadata": {},
     "output_type": "display_data"
    },
    {
     "data": {
      "text/html": [
       "<div class=\"map-static-img-preview-03f5a7e9-c625-4cf2-a595-7c2398ad5060\"><img src=\"\"></img></div>"
      ],
      "text/plain": [
       "<IPython.core.display.HTML object>"
      ]
     },
     "metadata": {},
     "output_type": "display_data"
    },
    {
     "data": {
      "text/html": [
       "<div class=\"map-html-embed-preview-03f5a7e9-c625-4cf2-a595-7c2398ad5060\"></div>"
      ],
      "text/plain": [
       "<IPython.core.display.HTML object>"
      ]
     },
     "metadata": {},
     "output_type": "display_data"
    }
   ],
   "source": [
    "from IPython.display import HTML\n",
    "HTML(l8_lyr.properties.description)\n",
    "import pandas as pd\n",
    "\n",
    "place = 'sarasota'\n",
    "\n",
    "pd.DataFrame(l8_lyr.key_properties()['BandProperties'])\n",
    "\n",
    "for fn in l8_lyr.properties.rasterFunctionInfos:\n",
    "    print(fn['name'])\n",
    "\n",
    "\n",
    "map = gis.map(place)\n",
    "\n",
    "map.add_layer(l8_lyr)\n",
    "map"
   ]
  },
  {
   "cell_type": "code",
   "execution_count": null,
   "id": "bacbffac",
   "metadata": {},
   "outputs": [],
   "source": []
  }
 ],
 "metadata": {
  "kernelspec": {
   "display_name": "Python 3 (ipykernel)",
   "language": "python",
   "name": "python3"
  },
  "language_info": {
   "codemirror_mode": {
    "name": "ipython",
    "version": 3
   },
   "file_extension": ".py",
   "mimetype": "text/x-python",
   "name": "python",
   "nbconvert_exporter": "python",
   "pygments_lexer": "ipython3",
   "version": "3.8.11"
  }
 },
 "nbformat": 4,
 "nbformat_minor": 5
}
