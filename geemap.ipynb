{
 "cells": [
  {
   "cell_type": "code",
   "execution_count": 1,
   "id": "aeaf8703",
   "metadata": {},
   "outputs": [
    {
     "data": {
      "application/vnd.jupyter.widget-view+json": {
       "model_id": "",
       "version_major": 2,
       "version_minor": 0
      },
      "text/plain": [
       "Map(center=[40, -100], controls=(WidgetControl(options=['position', 'transparent_bg'], widget=HBox(children=(T…"
      ]
     },
     "metadata": {},
     "output_type": "display_data"
    }
   ],
   "source": [
    "import ee\n",
    "import geemap\n",
    "\n",
    "Map = geemap.Map(center=(40, -100), zoom=4)\n",
    "Map = geemap.Map()\n",
    "Map.add_basemap('SATELLITE')\n",
    "Map.add_basemap('OpenTopoMap')\n",
    "\n",
    "Map = geemap.Map()\n",
    "Map.basemap_demo()\n",
    "Map\n",
    "\n",
    "#gee_basemaps['ROADMAP'], ee_basemaps['SATELLITE'], ee_basemaps['HYBRID']"
   ]
  },
  {
   "cell_type": "code",
   "execution_count": 2,
   "id": "e34c30bc",
   "metadata": {},
   "outputs": [
    {
     "name": "stdout",
     "output_type": "stream",
     "text": [
      "Downloading https://github.com/giswqs/geemap/archive/master.zip ...\n",
      "Unzipping geemap-master.zip ...\n",
      "Data downloaded to: C:\\Users\\joel1\\Downloads\\geemap-master\n",
      "\n",
      "Please comment out 'geemap.update_package()' and restart the kernel to take effect:\n",
      "Jupyter menu -> Kernel -> Restart & Clear Output\n"
     ]
    }
   ],
   "source": [
    "import geemap\n",
    "geemap.update_package()"
   ]
  },
  {
   "cell_type": "code",
   "execution_count": 3,
   "id": "e11f493f",
   "metadata": {},
   "outputs": [
    {
     "data": {
      "application/vnd.jupyter.widget-view+json": {
       "model_id": "",
       "version_major": 2,
       "version_minor": 0
      },
      "text/plain": [
       "Map(center=[40, -100], controls=(WidgetControl(options=['position', 'transparent_bg'], widget=HBox(children=(T…"
      ]
     },
     "metadata": {},
     "output_type": "display_data"
    }
   ],
   "source": [
    "Map = geemap.Map()\n",
    "\n",
    "landsat7 = ee.Image('LE7_TOA_5YEAR/1999_2003') \\\n",
    "    .select([0, 1, 2, 3, 4, 6])\n",
    "landsat_vis = {\n",
    "    'bands': ['B4', 'B3', 'B2'], \n",
    "    'gamma': 1.4\n",
    "}\n",
    "Map.addLayer(landsat7, landsat_vis, \"LE7_TOA_5YEAR/1999_2003\")\n",
    "\n",
    "hyperion = ee.ImageCollection('EO1/HYPERION') \\\n",
    "    .filter(ee.Filter.date('2016-01-01', '2017-03-01'))\n",
    "hyperion_vis = {\n",
    "  'min': 1000.0,\n",
    "  'max': 14000.0,\n",
    "  'gamma': 2.5,\n",
    "}\n",
    "Map.addLayer(hyperion, hyperion_vis, 'EO1/HYPERION')\n",
    "\n",
    "Map"
   ]
  },
  {
   "cell_type": "code",
   "execution_count": 4,
   "id": "20ddfd91",
   "metadata": {},
   "outputs": [],
   "source": [
    "Map.set_plot_options(plot_type='bar', add_marker_cluster=True)"
   ]
  },
  {
   "cell_type": "code",
   "execution_count": 5,
   "id": "66a23e02",
   "metadata": {},
   "outputs": [
    {
     "data": {
      "application/vnd.jupyter.widget-view+json": {
       "model_id": "",
       "version_major": 2,
       "version_minor": 0
      },
      "text/plain": [
       "Map(center=[40, -100], controls=(WidgetControl(options=['position', 'transparent_bg'], widget=HBox(children=(T…"
      ]
     },
     "metadata": {},
     "output_type": "display_data"
    }
   ],
   "source": [
    "import geemap\n",
    "import json\n",
    "import os\n",
    "import requests\n",
    "from geemap import geojson_to_ee, ee_to_geojson\n",
    "from ipyleaflet import GeoJSON, Marker, MarkerCluster\n",
    "\n",
    "\n",
    "\n",
    "Map = geemap.Map()\n",
    "Map"
   ]
  },
  {
   "cell_type": "code",
   "execution_count": null,
   "id": "6517259f",
   "metadata": {},
   "outputs": [],
   "source": []
  },
  {
   "cell_type": "code",
   "execution_count": 6,
   "id": "ec96c855",
   "metadata": {},
   "outputs": [
    {
     "name": "stdout",
     "output_type": "stream",
     "text": [
      "everything has been initialized\n"
     ]
    }
   ],
   "source": [
    "import ee\n",
    "\n",
    "ee.Initialize()\n",
    "\n",
    "print(\"everything has been initialized\")"
   ]
  },
  {
   "cell_type": "code",
   "execution_count": 7,
   "id": "b2f46470",
   "metadata": {},
   "outputs": [
    {
     "name": "stdout",
     "output_type": "stream",
     "text": [
      "My apartment elevation is: 12 m\n"
     ]
    }
   ],
   "source": [
    "# Add Earth Engine dataset\n",
    "image = ee.Image('USGS/SRTMGL1_003')\n",
    "\n",
    "# Set visualization parameters.\n",
    "vis_params = {\n",
    "  'min': 0,\n",
    "  'max': 4000,\n",
    "  'palette': ['006633', 'E5FFCC', '662A00', 'D8D8D8', 'F5F5F5']}\n",
    "\n",
    "# Print the elevation of Mount Everest.\n",
    "xy = ee.Geometry.Point([-82.447810, 27.347710])\n",
    "elev = image.sample(xy, 30).first().get('elevation').getInfo()\n",
    "print(f'My apartment elevation is: {elev} m')\n",
    "\n",
    "# Add Earth Engine layers to Map\n",
    "Map.addLayer(image, vis_params, 'DEM')\n",
    "Map.addLayer(xy, {'color': 'red'}, 'My apartment')\n",
    "\n",
    "# Center the map based on an Earth Engine object or coordinates (longitude, latitude)\n",
    "# Map.centerObject(xy, 4)\n",
    "Map.setCenter(-82.447810, .347710, 4)"
   ]
  },
  {
   "cell_type": "code",
   "execution_count": null,
   "id": "75a0c1f7",
   "metadata": {},
   "outputs": [],
   "source": []
  }
 ],
 "metadata": {
  "kernelspec": {
   "display_name": "Python 3 (ipykernel)",
   "language": "python",
   "name": "python3"
  },
  "language_info": {
   "codemirror_mode": {
    "name": "ipython",
    "version": 3
   },
   "file_extension": ".py",
   "mimetype": "text/x-python",
   "name": "python",
   "nbconvert_exporter": "python",
   "pygments_lexer": "ipython3",
   "version": "3.8.12"
  }
 },
 "nbformat": 4,
 "nbformat_minor": 5
}
