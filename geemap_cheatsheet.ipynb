{
 "cells": [
  {
   "cell_type": "markdown",
   "id": "0eb09e20",
   "metadata": {},
   "source": [
    "# Geemap cheat sheet"
   ]
  },
  {
   "cell_type": "markdown",
   "id": "812d4140",
   "metadata": {},
   "source": [
    "## upgrade"
   ]
  },
  {
   "cell_type": "code",
   "execution_count": null,
   "id": "b87ff493",
   "metadata": {},
   "outputs": [],
   "source": [
    "pip install -U geemap"
   ]
  },
  {
   "cell_type": "markdown",
   "id": "6c2c6297",
   "metadata": {},
   "source": [
    "## Create an interactive map"
   ]
  },
  {
   "cell_type": "code",
   "execution_count": 16,
   "id": "67d44d77",
   "metadata": {},
   "outputs": [
    {
     "data": {
      "application/vnd.jupyter.widget-view+json": {
       "model_id": "46e215610b0c484e842c823a153cd6d6",
       "version_major": 2,
       "version_minor": 0
      },
      "text/plain": [
       "Map(center=[40, -100], controls=(WidgetControl(options=['position', 'transparent_bg'], widget=HBox(children=(T…"
      ]
     },
     "metadata": {},
     "output_type": "display_data"
    }
   ],
   "source": [
    "import geemap\n",
    "import ee\n",
    "Map = geemap.Map(basemap='HYBRID')\n",
    "#Map.add_basemap('OpenTopoMap')\n",
    "Map"
   ]
  },
  {
   "cell_type": "markdown",
   "id": "1543497f",
   "metadata": {},
   "source": [
    "## Add XYZ layers"
   ]
  },
  {
   "cell_type": "code",
   "execution_count": 17,
   "id": "e1cc2c0f",
   "metadata": {},
   "outputs": [],
   "source": [
    "url = 'https://mt1.google.com/vt/lyrs=y&x={x}&y={y}&z={z}'\n",
    "Map.add_tile_layer(url, name='Google Satellite', attribution='Google')"
   ]
  },
  {
   "cell_type": "code",
   "execution_count": 18,
   "id": "9f48274e",
   "metadata": {},
   "outputs": [],
   "source": [
    "url = 'https://services.nationalmap.gov/arcgis/services/USGSNAIPImagery/ImageServer/WMSServer?'\n",
    "Map.add_wms_layer(url=url, layers='0', name='NAIP Imagery', format='image/png', shown=True)"
   ]
  },
  {
   "cell_type": "code",
   "execution_count": null,
   "id": "3a68d100",
   "metadata": {},
   "outputs": [],
   "source": []
  },
  {
   "cell_type": "code",
   "execution_count": 19,
   "id": "45fcacce",
   "metadata": {},
   "outputs": [],
   "source": [
    "image = ee.Image('USGS/SRTMGL1_003')\n",
    "vis_params = {\n",
    "  'min': 0,\n",
    "  'max': 4000,\n",
    "  'palette': ['006633', 'E5FFCC', '662A00', 'D8D8D8', 'F5F5F5']\n",
    "  }\n",
    "Map.addLayer(image, vis_params, 'SRTM DEM', True, 0.5)"
   ]
  },
  {
   "cell_type": "markdown",
   "id": "06bcf35f",
   "metadata": {},
   "source": [
    "## Change the default basemap"
   ]
  },
  {
   "cell_type": "code",
   "execution_count": null,
   "id": "b8c98ead",
   "metadata": {},
   "outputs": [],
   "source": []
  },
  {
   "cell_type": "code",
   "execution_count": null,
   "id": "f0ab742d",
   "metadata": {},
   "outputs": [],
   "source": []
  },
  {
   "cell_type": "code",
   "execution_count": 20,
   "id": "02b5d195",
   "metadata": {},
   "outputs": [
    {
     "ename": "NameError",
     "evalue": "name 'lon' is not defined",
     "output_type": "error",
     "traceback": [
      "\u001b[1;31m---------------------------------------------------------------------------\u001b[0m",
      "\u001b[1;31mNameError\u001b[0m                                 Traceback (most recent call last)",
      "\u001b[1;32m~\\AppData\\Local\\Temp/ipykernel_10540/343710776.py\u001b[0m in \u001b[0;36m<module>\u001b[1;34m\u001b[0m\n\u001b[1;32m----> 1\u001b[1;33m \u001b[0mMap\u001b[0m\u001b[1;33m.\u001b[0m\u001b[0msetCenter\u001b[0m\u001b[1;33m(\u001b[0m\u001b[0mlon\u001b[0m\u001b[1;33m,\u001b[0m \u001b[0mlat\u001b[0m\u001b[1;33m,\u001b[0m \u001b[0mzoom\u001b[0m\u001b[1;33m)\u001b[0m\u001b[1;33m\u001b[0m\u001b[1;33m\u001b[0m\u001b[0m\n\u001b[0m",
      "\u001b[1;31mNameError\u001b[0m: name 'lon' is not defined"
     ]
    }
   ],
   "source": [
    "Map.setCenter(lon, lat, zoom)"
   ]
  },
  {
   "cell_type": "code",
   "execution_count": null,
   "id": "43b1374e",
   "metadata": {},
   "outputs": [],
   "source": []
  },
  {
   "cell_type": "code",
   "execution_count": null,
   "id": "64a71743",
   "metadata": {},
   "outputs": [],
   "source": []
  },
  {
   "cell_type": "code",
   "execution_count": 25,
   "id": "15c8d167",
   "metadata": {},
   "outputs": [],
   "source": [
    "import geemap\n",
    "import json\n",
    "import os\n",
    "import requests\n",
    "from geemap import geojson_to_ee, ee_to_geojson\n",
    "from ipyleaflet import GeoJSON"
   ]
  },
  {
   "cell_type": "code",
   "execution_count": 26,
   "id": "17ee1de3",
   "metadata": {},
   "outputs": [
    {
     "data": {
      "application/vnd.jupyter.widget-view+json": {
       "model_id": "d9a14d9f116649cb9bbcd9a324f9d06d",
       "version_major": 2,
       "version_minor": 0
      },
      "text/plain": [
       "Map(center=[40, -100], controls=(WidgetControl(options=['position', 'transparent_bg'], widget=HBox(children=(T…"
      ]
     },
     "metadata": {},
     "output_type": "display_data"
    }
   ],
   "source": [
    "Map = geemap.Map()\n",
    "Map"
   ]
  },
  {
   "cell_type": "code",
   "execution_count": 37,
   "id": "29549a5e",
   "metadata": {},
   "outputs": [],
   "source": [
    "os.chdir(\"C:/Data_science_&_GIS/QGIS/3d_building/Data\")\n",
    "countries_shp = 'Building Footprints.shp'\n",
    "countries = geemap.shp_to_ee(countries_shp)\n",
    "Map.addLayer(countries, {}, 'Countries')"
   ]
  },
  {
   "cell_type": "code",
   "execution_count": 38,
   "id": "212ef10a",
   "metadata": {},
   "outputs": [],
   "source": [
    "states_shp = countries_shp\n",
    "states = geemap.shp_to_ee(states_shp)\n",
    "Map.addLayer(states, {}, 'US States')"
   ]
  },
  {
   "cell_type": "code",
   "execution_count": null,
   "id": "df16ca93",
   "metadata": {},
   "outputs": [],
   "source": []
  }
 ],
 "metadata": {
  "kernelspec": {
   "display_name": "Python 3 (ipykernel)",
   "language": "python",
   "name": "python3"
  },
  "language_info": {
   "codemirror_mode": {
    "name": "ipython",
    "version": 3
   },
   "file_extension": ".py",
   "mimetype": "text/x-python",
   "name": "python",
   "nbconvert_exporter": "python",
   "pygments_lexer": "ipython3",
   "version": "3.8.12"
  }
 },
 "nbformat": 4,
 "nbformat_minor": 5
}
