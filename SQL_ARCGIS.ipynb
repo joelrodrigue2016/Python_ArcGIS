{
 "cells": [
  {
   "cell_type": "markdown",
   "id": "9d584ca7",
   "metadata": {},
   "source": [
    "# This script gets all the data from an online database and inserts it into postgresql/postgis."
   ]
  },
  {
   "cell_type": "markdown",
   "id": "e3b5477c",
   "metadata": {},
   "source": [
    "## Loading the database and all the pertinent libraries"
   ]
  },
  {
   "cell_type": "code",
   "execution_count": null,
   "id": "03855440",
   "metadata": {},
   "outputs": [],
   "source": [
    "try:\n",
    "    import psycopg2\n",
    "    import pandas as pd\n",
    "    import pandas.io.sql as psql\n",
    "    import numpy as np\n",
    "    from matplotlib import pyplot as plt\n",
    "    from IPython.display import display\n",
    "    import os\n",
    "    import pandas_profiling as pp\n",
    "    import requests \n",
    "    from shapely.geometry import Point,Polygon,MultiPolygon, mapping \n",
    "    import datetime\n",
    "\n",
    "\n",
    "\n",
    "\n",
    "    database = \"practical_sql\"\n",
    "    user = \"postgres\"\n",
    "    password = 3715\n",
    "    host = \"localhost\"\n",
    "    port = \"5432\"\n",
    "\n",
    "    conn = psycopg2.connect(database = database, user = user, password =password, host = host, port = port)\n",
    "\n",
    "    print (\"Opened database successfully\")\n",
    "\n",
    "except:\n",
    "    print(\"------something went wrong------\")"
   ]
  },
  {
   "cell_type": "markdown",
   "id": "1fe629cf",
   "metadata": {},
   "source": [
    "### Here we can make sure that the all rows and columns are displayed."
   ]
  },
  {
   "cell_type": "code",
   "execution_count": 10,
   "id": "3777ef63",
   "metadata": {},
   "outputs": [],
   "source": [
    "pd.options.display.max_rows = None\n",
    "pd.options.display.max_columns = None"
   ]
  },
  {
   "cell_type": "code",
   "execution_count": 26,
   "id": "254188ff",
   "metadata": {},
   "outputs": [
    {
     "name": "stdout",
     "output_type": "stream",
     "text": [
      "Data has been successfuly created!!\n"
     ]
    }
   ],
   "source": [
    "\"\"\"cursor = conn.cursor()\n",
    "cursor.execute(\"CREATE TABLE areacommands (id SERIAL PRIMARY KEY, name VARCHAR(20), geom GEOMETRY)\")\n",
    "cursor.execute(\"CREATE TABLE beats (id SERIAL PRIMARY KEY, beat VARCHAR(6), agency VARCHAR(3), areacomm VARCHAR(15),geom GEOMETRY)\")\n",
    "cursor.execute(\"CREATE TABLE incidents (id SERIAL PRIMARY KEY, address VARCHAR(72), crimetype VARCHAR(255), date DATE,geom GEOMETRY)\")\n",
    "conn.commit() \"\"\"\n",
    "\n",
    "print(\"Data has been successfuly created!!\")"
   ]
  },
  {
   "cell_type": "code",
   "execution_count": 24,
   "id": "535b4c57",
   "metadata": {},
   "outputs": [],
   "source": [
    "url='http://coagisweb.cabq.gov/arcgis/rest/services/public/adminboundaries/MapServer/8/query' \n",
    "params={\"where\":\"1=1\",\"outFields\":\"*\",\"outSR\":\"4326\",\"f\":\"json\"} \n",
    "r=requests.get(url,params=params) \n",
    "data=r.json()\n",
    "for acmd in data['features']:    \n",
    "    polys=[]\n",
    "    for ring in acmd['geometry']['rings']:        \n",
    "        polys.append(Polygon(ring))    \n",
    "    p=MultiPolygon(polys)    \n",
    "    name=acmd['attributes']['Area_Command']    \n",
    "    cursor.execute(\"INSERT INTO areacommands (name, geom) VALUES ('{}', ST_GeomFromText('{}'))\".format(name, p.wkt))\n",
    "conn.commit() \n",
    " "
   ]
  },
  {
   "cell_type": "code",
   "execution_count": 42,
   "id": "2db1aa75",
   "metadata": {},
   "outputs": [
    {
     "data": {
      "text/html": [
       "<div>\n",
       "<style scoped>\n",
       "    .dataframe tbody tr th:only-of-type {\n",
       "        vertical-align: middle;\n",
       "    }\n",
       "\n",
       "    .dataframe tbody tr th {\n",
       "        vertical-align: top;\n",
       "    }\n",
       "\n",
       "    .dataframe thead th {\n",
       "        text-align: right;\n",
       "    }\n",
       "</style>\n",
       "<table border=\"1\" class=\"dataframe\">\n",
       "  <thead>\n",
       "    <tr style=\"text-align: right;\">\n",
       "      <th></th>\n",
       "      <th>id</th>\n",
       "      <th>name</th>\n",
       "      <th>geom</th>\n",
       "    </tr>\n",
       "  </thead>\n",
       "  <tbody>\n",
       "    <tr>\n",
       "      <th>0</th>\n",
       "      <td>1</td>\n",
       "      <td>FOOTHILLS</td>\n",
       "      <td>0106000000050000000103000000010000006A050000D9...</td>\n",
       "    </tr>\n",
       "    <tr>\n",
       "      <th>1</th>\n",
       "      <td>2</td>\n",
       "      <td>NORTHEAST</td>\n",
       "      <td>010600000003000000010300000001000000F1020000C3...</td>\n",
       "    </tr>\n",
       "    <tr>\n",
       "      <th>2</th>\n",
       "      <td>3</td>\n",
       "      <td>NORTHWEST</td>\n",
       "      <td>010600000006000000010300000001000000D6110000C1...</td>\n",
       "    </tr>\n",
       "    <tr>\n",
       "      <th>3</th>\n",
       "      <td>4</td>\n",
       "      <td>SOUTHEAST</td>\n",
       "      <td>0106000000030000000103000000010000006D030000BF...</td>\n",
       "    </tr>\n",
       "    <tr>\n",
       "      <th>4</th>\n",
       "      <td>5</td>\n",
       "      <td>SOUTHWEST</td>\n",
       "      <td>0106000000160000000103000000010000000E1000008F...</td>\n",
       "    </tr>\n",
       "    <tr>\n",
       "      <th>5</th>\n",
       "      <td>6</td>\n",
       "      <td>VALLEY</td>\n",
       "      <td>010600000012000000010300000001000000820D000085...</td>\n",
       "    </tr>\n",
       "    <tr>\n",
       "      <th>6</th>\n",
       "      <td>7</td>\n",
       "      <td>FOOTHILLS</td>\n",
       "      <td>0106000000050000000103000000010000006A050000D9...</td>\n",
       "    </tr>\n",
       "    <tr>\n",
       "      <th>7</th>\n",
       "      <td>8</td>\n",
       "      <td>NORTHEAST</td>\n",
       "      <td>010600000003000000010300000001000000F1020000C3...</td>\n",
       "    </tr>\n",
       "    <tr>\n",
       "      <th>8</th>\n",
       "      <td>9</td>\n",
       "      <td>NORTHWEST</td>\n",
       "      <td>010600000006000000010300000001000000D6110000C1...</td>\n",
       "    </tr>\n",
       "    <tr>\n",
       "      <th>9</th>\n",
       "      <td>10</td>\n",
       "      <td>SOUTHEAST</td>\n",
       "      <td>0106000000030000000103000000010000006D030000BF...</td>\n",
       "    </tr>\n",
       "    <tr>\n",
       "      <th>10</th>\n",
       "      <td>11</td>\n",
       "      <td>SOUTHWEST</td>\n",
       "      <td>0106000000160000000103000000010000000E1000008F...</td>\n",
       "    </tr>\n",
       "    <tr>\n",
       "      <th>11</th>\n",
       "      <td>12</td>\n",
       "      <td>VALLEY</td>\n",
       "      <td>010600000012000000010300000001000000820D000085...</td>\n",
       "    </tr>\n",
       "  </tbody>\n",
       "</table>\n",
       "</div>"
      ],
      "text/plain": [
       "    id       name                                               geom\n",
       "0    1  FOOTHILLS  0106000000050000000103000000010000006A050000D9...\n",
       "1    2  NORTHEAST  010600000003000000010300000001000000F1020000C3...\n",
       "2    3  NORTHWEST  010600000006000000010300000001000000D6110000C1...\n",
       "3    4  SOUTHEAST  0106000000030000000103000000010000006D030000BF...\n",
       "4    5  SOUTHWEST  0106000000160000000103000000010000000E1000008F...\n",
       "5    6     VALLEY  010600000012000000010300000001000000820D000085...\n",
       "6    7  FOOTHILLS  0106000000050000000103000000010000006A050000D9...\n",
       "7    8  NORTHEAST  010600000003000000010300000001000000F1020000C3...\n",
       "8    9  NORTHWEST  010600000006000000010300000001000000D6110000C1...\n",
       "9   10  SOUTHEAST  0106000000030000000103000000010000006D030000BF...\n",
       "10  11  SOUTHWEST  0106000000160000000103000000010000000E1000008F...\n",
       "11  12     VALLEY  010600000012000000010300000001000000820D000085..."
      ]
     },
     "execution_count": 42,
     "metadata": {},
     "output_type": "execute_result"
    }
   ],
   "source": [
    "query = \"\"\"\n",
    "\n",
    "select * \n",
    "from areacommands\n",
    "\n",
    "\n",
    "\n",
    "\"\"\"\n",
    "\n",
    "data = psql.read_sql(query, conn)\n",
    "data"
   ]
  },
  {
   "cell_type": "code",
   "execution_count": null,
   "id": "f13387c1",
   "metadata": {},
   "outputs": [],
   "source": []
  },
  {
   "cell_type": "code",
   "execution_count": 41,
   "id": "4eb1fdff",
   "metadata": {},
   "outputs": [],
   "source": [
    "url='http://coagisweb.cabq.gov/arcgis/rest/services/public/adminboundaries/MapServer/9/query' \n",
    "params={\"where\":\"1=1\",\"outFields\":\"*\",\"outSR\":\"4326\",\"f\":\"json\"}\n",
    "r=requests.get(url,params=params) \n",
    "data=r.json()\n",
    "for acmd in data['features']:    \n",
    "    polys=[]    \n",
    "    for ring in acmd['geometry']['rings']:        \n",
    "        polys.append(Polygon(ring))    \n",
    "    p=MultiPolygon(polys)\n",
    "    beat = acmd['attributes']['BEAT']    \n",
    "    agency = acmd['attributes']['AGENCY']    \n",
    "    areacomm = acmd['attributes']['AREA_COMMA']\n",
    "    cursor.execute(\"INSERT INTO beats (beat, agency,areacomm,geom) VALUES ('{}','{}','{}', ST_GeomFromText('{}'))\".format(beat,agency,areacomm,p.wkt))\n",
    "conn.commit() \n"
   ]
  },
  {
   "cell_type": "code",
   "execution_count": null,
   "id": "7bc9ae0d",
   "metadata": {},
   "outputs": [],
   "source": []
  }
 ],
 "metadata": {
  "kernelspec": {
   "display_name": "Python 3 (ipykernel)",
   "language": "python",
   "name": "python3"
  },
  "language_info": {
   "codemirror_mode": {
    "name": "ipython",
    "version": 3
   },
   "file_extension": ".py",
   "mimetype": "text/x-python",
   "name": "python",
   "nbconvert_exporter": "python",
   "pygments_lexer": "ipython3",
   "version": "3.8.11"
  }
 },
 "nbformat": 4,
 "nbformat_minor": 5
}
