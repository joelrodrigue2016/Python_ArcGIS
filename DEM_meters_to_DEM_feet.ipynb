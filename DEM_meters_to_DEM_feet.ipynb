{
 "cells": [
  {
   "cell_type": "markdown",
   "metadata": {},
   "source": [
    "# This code is done in order to transformed DEM data from Meter to feet\n",
    "##### Prepared by Joel Rodriguez for Kimley-Horn."
   ]
  },
  {
   "cell_type": "markdown",
   "metadata": {},
   "source": [
    "More than likely your DEM is meters. Make sure that your DEM is in meters because the purpose of this code is to go from Meters---> feet.  Feel free to use the native tool that arcmap provides https://support.esri.com/en/technical-article/000012381\n",
    "\n",
    "\n",
    "Please make sure you make a copy of the DEM file since it will be altered once the process is finished.\n",
    "\n",
    "\n",
    "\n",
    "Now you will be prompted to enter the path where the DEM file is located."
   ]
  },
  {
   "cell_type": "code",
   "execution_count": null,
   "metadata": {},
   "outputs": [],
   "source": [
    "\n",
    "import os\n",
    "import arcpy\n",
    "import pandas as pd\n",
    "import numpy as np\n",
    "from matplotlib import pyplot as plt\n",
    "from IPython.display import display\n",
    "import os\n",
    "path = input(\"Enter the path where the DEM file is located here:  \")\n",
    "os.chdir(path)\n",
    "\n",
    "    \n",
    "\n"
   ]
  },
  {
   "cell_type": "markdown",
   "metadata": {},
   "source": [
    "If the path was entered correctly now the next cell will confirm that it was updated successfully."
   ]
  },
  {
   "cell_type": "code",
   "execution_count": 7,
   "metadata": {},
   "outputs": [
    {
     "name": "stdout",
     "output_type": "stream",
     "text": [
      "The path was updated successfully!!\n"
     ]
    }
   ],
   "source": [
    "try:\n",
    "    import os\n",
    "    if path ==os.getcwd():\n",
    "        print(\"The path was updated successfully!!\")\n",
    "except:\n",
    "    print(\"Something went wrong. Make sure you enter the file path correctly.\")"
   ]
  },
  {
   "cell_type": "markdown",
   "metadata": {},
   "source": [
    "Now that the path link was entered successfully, you will finally be prompted to enter the file name.\n",
    "Make sure you put the \".dem\" at the end, i.e sample.dem "
   ]
  },
  {
   "cell_type": "code",
   "execution_count": 8,
   "metadata": {},
   "outputs": [
    {
     "name": "stdout",
     "output_type": "stream",
     "text": [
      "Enter the file name. please make sure to speficy the file name. i.e sample.dem092g04_0101_demw_.dem\n"
     ]
    }
   ],
   "source": [
    "\n",
    "#Checkout License\n",
    "wrkspc = path\n",
    "mos_name = input(\"Enter the file name. please make sure to speficy the file name. i.e sample.dem\")\n",
    "mos_wrk = path"
   ]
  },
  {
   "cell_type": "code",
   "execution_count": 9,
   "metadata": {},
   "outputs": [
    {
     "name": "stdout",
     "output_type": "stream",
     "text": [
      "Starting Process 2: Converting Units to Feet...\n",
      "Units were converted.\n"
     ]
    }
   ],
   "source": [
    "print (\"Starting Process 2: Converting Units to Feet...\")\n",
    "#Checkout License\n",
    "wrkspc = path\n",
    "mos_name = '092g04_0101_demw.dem'\n",
    "mos_wrk = path\n",
    "class LicenseError(Exception):\n",
    "    pass\n",
    "try:\n",
    "    if arcpy.CheckExtension(\"Spatial\") == \"Available\":\n",
    "        arcpy.CheckOutExtension(\"Spatial\")\n",
    "\n",
    "        #arcpy.env.workspace = wrkspc\n",
    "        dem_input = mos_wrk + \"\\\\\" + mos_name\n",
    "        demft = arcpy.Raster(dem_input)*3.28084\n",
    "        #demft.save((mos_wrk)+\"\\\\\"+ (mos_name) +\"_ft\")\n",
    "\n",
    "    else:\n",
    "        # raise a custom exception\n",
    "        raise LicenseError\n",
    "\n",
    "except LicenseError:\n",
    "    print(\"Spatial Analyst license is unavailable\")\n",
    "except arcpy.ExecuteError:\n",
    "    print(arcpy.GetMessages(2))\n",
    "\n",
    "print (\"Units were converted.\")"
   ]
  },
  {
   "cell_type": "markdown",
   "metadata": {},
   "source": [
    "# The file will be loaded up onto the project."
   ]
  },
  {
   "cell_type": "code",
   "execution_count": null,
   "metadata": {},
   "outputs": [],
   "source": []
  }
 ],
 "metadata": {
  "kernelspec": {
   "display_name": "ArcGISPro",
   "language": "Python",
   "name": "python3"
  },
  "language_info": {
   "file_extension": ".py",
   "name": "python",
   "version": "3"
  }
 },
 "nbformat": 4,
 "nbformat_minor": 2
}
